{
  "nbformat": 4,
  "nbformat_minor": 0,
  "metadata": {
    "colab": {
      "provenance": []
    },
    "kernelspec": {
      "name": "python3",
      "display_name": "Python 3"
    },
    "language_info": {
      "name": "python"
    }
  },
  "cells": [
    {
      "cell_type": "markdown",
      "source": [
        "# DataScienceEcosystem\n",
        "\n",
        "\n"
      ],
      "metadata": {
        "id": "GY1JRCqW8_mc"
      }
    },
    {
      "cell_type": "markdown",
      "source": [
        "In this notebook, Data Science Tools and Ecosystem are summarized."
      ],
      "metadata": {
        "id": "veHqicoH9-D8"
      }
    },
    {
      "cell_type": "markdown",
      "source": [
        "Some of the popular languages that Data Scientists use are:\n",
        "\n",
        "\n",
        "*   Python\n",
        "\n",
        "\n",
        "* R\n",
        "* SQL\n",
        "* Scala\n",
        "* Java\n",
        "* C++\n",
        "* Julia\n",
        "* JavaScript\n",
        "* PHP\n",
        "* Git\n",
        "* Yakut\n",
        "* Visual Basic\n",
        "\n",
        "\n",
        "\n",
        "\n",
        "\n",
        "\n",
        "\n",
        "\n",
        "\n",
        "\n",
        "\n",
        "\n",
        "\n",
        "\n"
      ],
      "metadata": {
        "id": "QgS54t2M-Vbd"
      }
    },
    {
      "cell_type": "markdown",
      "source": [
        "Some of the commonly used libraries used by Data Scientists include:\n",
        "\n",
        "* Pandas  \n",
        "* NumPy  \n",
        "* Matplotlib  \n",
        "* Seaborn  \n",
        "* Scikit-learn  \n",
        "* Keras  \n",
        "* TensorFlow  \n",
        "* PyTorch  \n",
        "* Apache Spark  \n",
        "* Vegas  \n",
        "* Büyük DL  \n",
        "* Ggplot2  \n",
        "\n",
        "\n",
        "\n"
      ],
      "metadata": {
        "id": "NytyJpYV-08O"
      }
    },
    {
      "cell_type": "markdown",
      "source": [
        "\n",
        "| Data Science Tools |\n",
        "|---|\n",
        "| VsCode |\n",
        "| Spyder |\n",
        "| Jupyter Notebooks |\n"
      ],
      "metadata": {
        "id": "4Mpf-sC0_gmf"
      }
    },
    {
      "cell_type": "markdown",
      "source": [
        "Below are a few examples of evaluating arithmetic expressions in Python"
      ],
      "metadata": {
        "id": "S_9mx2n_ATSB"
      }
    },
    {
      "cell_type": "code",
      "source": [
        "#This a simple arithmetic expression to mutiply then add integers.\n",
        "(3*4)+5"
      ],
      "metadata": {
        "colab": {
          "base_uri": "https://localhost:8080/"
        },
        "id": "0ddwGqk-AoWu",
        "outputId": "02094fcf-0dee-40f6-b34f-7ff61060605d"
      },
      "execution_count": 1,
      "outputs": [
        {
          "output_type": "execute_result",
          "data": {
            "text/plain": [
              "17"
            ]
          },
          "metadata": {},
          "execution_count": 1
        }
      ]
    },
    {
      "cell_type": "code",
      "source": [
        "200 / 60  #This will convert 200 minutes to hours by diving by 60.\n",
        "\n"
      ],
      "metadata": {
        "colab": {
          "base_uri": "https://localhost:8080/"
        },
        "id": "MQDS4P9LAuON",
        "outputId": "d34b668e-00f5-480c-abe1-9fcef3b3457f"
      },
      "execution_count": 3,
      "outputs": [
        {
          "output_type": "execute_result",
          "data": {
            "text/plain": [
              "3.3333333333333335"
            ]
          },
          "metadata": {},
          "execution_count": 3
        }
      ]
    },
    {
      "cell_type": "markdown",
      "source": [
        "**Objectives:**\n",
        "\n",
        "\n",
        "* Create a Jupyter Notebook\n",
        "\n",
        "*  Insert Code And MarkDown Cells\n",
        "*  share the notenook truht github\n",
        "making tables in jupyternotebooks\n",
        "linsting some of the most common languess in data science\n",
        "\n"
      ],
      "metadata": {
        "id": "cdGCh_KPBnIe"
      }
    },
    {
      "cell_type": "markdown",
      "source": [
        "# Author\n",
        "\n",
        "Çağrı ceylan"
      ],
      "metadata": {
        "id": "4Ec45_YACjeN"
      }
    },
    {
      "cell_type": "code",
      "source": [],
      "metadata": {
        "id": "yd2T2jzEBGcg"
      },
      "execution_count": null,
      "outputs": []
    }
  ]
}