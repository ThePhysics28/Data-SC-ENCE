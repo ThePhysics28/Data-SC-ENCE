{
  "cells": [
    {
      "cell_type": "markdown",
      "metadata": {
        "id": "GY1JRCqW8_mc"
      },
      "source": [
        "# DataScienceEcosystem\n",
        "\n",
        "\n"
      ]
    },
    {
      "cell_type": "markdown",
      "metadata": {
        "id": "veHqicoH9-D8"
      },
      "source": [
        "In this notebook, Data Science Tools and Ecosystem are summarized."
      ]
    },
    {
      "cell_type": "markdown",
      "metadata": {
        "id": "QgS54t2M-Vbd"
      },
      "source": [
        "Some of the popular languages that Data Scientists use are :\n",
        "\n",
        "\n",
        "*   Python\n",
        "\n",
        "\n",
        "* R\n",
        "* SQL\n",
        "* Scala\n",
        "* Java\n",
        "* C++\n",
        "* Julia\n",
        "* JavaScript\n",
        "* PHP\n",
        "* Git\n",
        "* Yakut\n",
        "* Visual Basic\n",
        "\n",
        "\n",
        "\n",
        "\n",
        "\n",
        "\n",
        "\n",
        "\n",
        "\n",
        "\n",
        "\n",
        "\n",
        "\n",
        "\n"
      ]
    },
    {
      "cell_type": "markdown",
      "metadata": {
        "id": "NytyJpYV-08O"
      },
      "source": [
        "Some of the commonly used libraries used by Data Scientists include:\n",
        "\n",
        "* Pandas  \n",
        "* NumPy  \n",
        "* Matplotlib  \n",
        "* Seaborn  \n",
        "* Scikit-learn  \n",
        "* Keras  \n",
        "* TensorFlow  \n",
        "* PyTorch  \n",
        "* Apache Spark  \n",
        "* Vegas  \n",
        "* Büyük DL  \n",
        "* Ggplot2  \n",
        "\n",
        "\n",
        "\n"
      ]
    },
    {
      "cell_type": "markdown",
      "metadata": {
        "id": "4Mpf-sC0_gmf"
      },
      "source": [
        "\n",
        "| Data Science Tools |\n",
        "|---|\n",
        "| VsCode |\n",
        "| Spyder |\n",
        "| Jupyter Notebooks |\n"
      ]
    },
    {
      "cell_type": "markdown",
      "metadata": {
        "id": "S_9mx2n_ATSB"
      },
      "source": [
        "Below are a few examples of evaluating arithmetic expressions in Python"
      ]
    },
    {
      "cell_type": "code",
      "execution_count": 1,
      "metadata": {
        "colab": {
          "base_uri": "https://localhost:8080/"
        },
        "id": "0ddwGqk-AoWu",
        "outputId": "02094fcf-0dee-40f6-b34f-7ff61060605d"
      },
      "outputs": [
        {
          "data": {
            "text/plain": [
              "17"
            ]
          },
          "execution_count": 1,
          "metadata": {},
          "output_type": "execute_result"
        }
      ],
      "source": [
        "#This a simple arithmetic expression to mutiply then add integers.\n",
        "(3*4)+5"
      ]
    },
    {
      "cell_type": "code",
      "execution_count": 3,
      "metadata": {
        "colab": {
          "base_uri": "https://localhost:8080/"
        },
        "id": "MQDS4P9LAuON",
        "outputId": "d34b668e-00f5-480c-abe1-9fcef3b3457f"
      },
      "outputs": [
        {
          "data": {
            "text/plain": [
              "3.3333333333333335"
            ]
          },
          "execution_count": 3,
          "metadata": {},
          "output_type": "execute_result"
        }
      ],
      "source": [
        "200 / 60  #This will convert 200 minutes to hours by diving by 60.\n",
        "\n"
      ]
    },
    {
      "cell_type": "markdown",
      "metadata": {
        "id": "cdGCh_KPBnIe"
      },
      "source": [
        "**Objectives:**\n",
        "\n",
        "\n",
        "* Create a Jupyter Notebook\n",
        "\n",
        "*  Insert Code And MarkDown Cells\n",
        "*  share the notenook truht github\n",
        "making tables in jupyternotebooks\n",
        "linsting some of the most common languess in data science\n",
        "\n"
      ]
    },
    {
      "cell_type": "markdown",
      "metadata": {
        "id": "4Ec45_YACjeN"
      },
      "source": [
        "# Author\n",
        "\n",
        "Çağrı ceylan"
      ]
    },
    {
      "cell_type": "code",
      "execution_count": null,
      "metadata": {
        "id": "yd2T2jzEBGcg"
      },
      "outputs": [],
      "source": []
    }
  ],
  "metadata": {
    "colab": {
      "provenance": []
    },
    "kernelspec": {
      "display_name": "Python 3",
      "name": "python3"
    },
    "language_info": {
      "name": "python"
    }
  },
  "nbformat": 4,
  "nbformat_minor": 0
}
